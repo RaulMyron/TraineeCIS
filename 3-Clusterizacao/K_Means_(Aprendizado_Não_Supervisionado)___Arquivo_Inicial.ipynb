{
  "cells": [
    {
      "cell_type": "markdown",
      "id": "c1e2835d",
      "metadata": {
        "id": "c1e2835d"
      },
      "source": [
        "# Aprendizado Não Supervisionado\n",
        "- Falamos da parte teórica do K-Means na última aula\n",
        "    - https://www.youtube.com/watch?v=q05qbU8FYKU&t=4s\n",
        "- Agora vamos para a **parte prática** utilizando um dataset que já conhecemos, o dataset iris"
      ]
    },
    {
      "cell_type": "markdown",
      "id": "55ce6e11",
      "metadata": {
        "id": "55ce6e11"
      },
      "source": [
        "- **Importando o dataset iris**\n",
        "    - https://scikit-learn.org/stable/modules/generated/sklearn.datasets.load_iris.html"
      ]
    },
    {
      "cell_type": "code",
      "execution_count": null,
      "id": "bdf72c30",
      "metadata": {
        "id": "bdf72c30"
      },
      "outputs": [],
      "source": [
        "# Importando o dataset iris\n",
        "from sklearn.datasets import load_iris\n",
        "X,y = load_iris(return_X_y=True,as_frame=True)"
      ]
    },
    {
      "cell_type": "code",
      "execution_count": null,
      "id": "68a3976a",
      "metadata": {
        "id": "68a3976a"
      },
      "outputs": [],
      "source": [
        "# Selecionando apenas as colunas de pétala\n",
        "X = X.loc[:,['petal length (cm)','petal width (cm)']]"
      ]
    },
    {
      "cell_type": "markdown",
      "id": "93b8f237",
      "metadata": {
        "id": "93b8f237"
      },
      "source": [
        "- **Visualizando graficamente os pontos**\n",
        "    - https://matplotlib.org/stable/plot_types/basic/scatter_plot.html#sphx-glr-plot-types-basic-scatter-plot-py"
      ]
    },
    {
      "cell_type": "code",
      "execution_count": null,
      "id": "eccf454b",
      "metadata": {
        "id": "eccf454b"
      },
      "outputs": [],
      "source": [
        "# Visualizando graficamente os pontos\n",
        "import matplotlib.pyplot as plt\n",
        "\n",
        "fig, ax = plt.subplots()\n",
        "\n",
        "ax.scatter(X['petal length (cm)'], X['petal width (cm)'])\n",
        "\n",
        "plt.show()"
      ]
    },
    {
      "cell_type": "markdown",
      "id": "0a6edb61",
      "metadata": {
        "id": "0a6edb61"
      },
      "source": [
        "- **Utilizando o K-means**\n",
        "    - https://scikit-learn.org/stable/modules/generated/sklearn.cluster.KMeans.html"
      ]
    },
    {
      "cell_type": "code",
      "execution_count": null,
      "id": "86f30d45",
      "metadata": {
        "id": "86f30d45"
      },
      "outputs": [],
      "source": [
        "# Importando o KMeans"
      ]
    },
    {
      "cell_type": "code",
      "execution_count": null,
      "id": "ceff1cda",
      "metadata": {
        "id": "ceff1cda"
      },
      "outputs": [],
      "source": [
        "# Utilizando o algoritmo"
      ]
    },
    {
      "cell_type": "code",
      "execution_count": null,
      "id": "2f14860e",
      "metadata": {
        "id": "2f14860e"
      },
      "outputs": [],
      "source": [
        "# Verificando quais foram os labels determinados pelo k-means"
      ]
    },
    {
      "cell_type": "code",
      "execution_count": null,
      "id": "521787b5",
      "metadata": {
        "id": "521787b5"
      },
      "outputs": [],
      "source": [
        "# Visualizando graficamente"
      ]
    },
    {
      "cell_type": "markdown",
      "id": "4e2972d9",
      "metadata": {
        "id": "4e2972d9"
      },
      "source": [
        "- **E se usarmos k = 3? E k = 4? E 5?...**"
      ]
    },
    {
      "cell_type": "code",
      "execution_count": null,
      "id": "a4d17d77",
      "metadata": {
        "id": "a4d17d77"
      },
      "outputs": [],
      "source": [
        "# Utilizando k = 3"
      ]
    },
    {
      "cell_type": "code",
      "execution_count": null,
      "id": "4ac96722",
      "metadata": {
        "id": "4ac96722"
      },
      "outputs": [],
      "source": [
        "# Verificando quais foram os labels determinados pelo k-means"
      ]
    },
    {
      "cell_type": "code",
      "execution_count": null,
      "id": "5a11b2c4",
      "metadata": {
        "id": "5a11b2c4"
      },
      "outputs": [],
      "source": [
        "# Visualizando graficamente"
      ]
    },
    {
      "cell_type": "code",
      "execution_count": null,
      "id": "d1f0bb0b",
      "metadata": {
        "id": "d1f0bb0b"
      },
      "outputs": [],
      "source": [
        "# Utilizando k = 4"
      ]
    },
    {
      "cell_type": "code",
      "execution_count": null,
      "id": "5786af3b",
      "metadata": {
        "id": "5786af3b"
      },
      "outputs": [],
      "source": [
        "# Visualizando graficamente"
      ]
    },
    {
      "cell_type": "code",
      "execution_count": null,
      "id": "f235a224",
      "metadata": {
        "id": "f235a224"
      },
      "outputs": [],
      "source": [
        "# Utilizando k = 5"
      ]
    },
    {
      "cell_type": "code",
      "execution_count": null,
      "id": "e22e4051",
      "metadata": {
        "id": "e22e4051"
      },
      "outputs": [],
      "source": [
        "# Visualizando graficamente"
      ]
    },
    {
      "cell_type": "markdown",
      "id": "9a6e0351",
      "metadata": {
        "id": "9a6e0351"
      },
      "source": [
        "- **Podemos então utilizar o \"Método do Cotovelo (Elbow Method)\" para determinar o melhor valor de k**"
      ]
    },
    {
      "cell_type": "code",
      "execution_count": null,
      "id": "9a2f376f",
      "metadata": {
        "id": "9a2f376f"
      },
      "outputs": [],
      "source": [
        "# Percorrendo diferentes valores de K"
      ]
    },
    {
      "cell_type": "code",
      "execution_count": null,
      "id": "3d94cbec",
      "metadata": {
        "id": "3d94cbec"
      },
      "outputs": [],
      "source": [
        "# Visualizando a relação entre inércia e K"
      ]
    },
    {
      "cell_type": "markdown",
      "id": "09d9fe4a",
      "metadata": {
        "id": "09d9fe4a"
      },
      "source": [
        "- **Podemos utilizar o K sugerido acima e avaliar os modelos**\n",
        "    - https://scikit-learn.org/stable/modules/clustering.html#clustering-performance-evaluation"
      ]
    },
    {
      "cell_type": "code",
      "execution_count": null,
      "id": "1dffb05d",
      "metadata": {
        "id": "1dffb05d"
      },
      "outputs": [],
      "source": [
        "# Podemos visualizar o target e os labels em um mesmo gráfico"
      ]
    },
    {
      "cell_type": "markdown",
      "id": "a3bc89d1",
      "metadata": {
        "id": "a3bc89d1"
      },
      "source": [
        "- **Índice Rand**\n",
        "    - https://scikit-learn.org/stable/modules/clustering.html#rand-index\n",
        "    - mede a semelhança de classe entre 2 pontos\n",
        "    - **Depende de termos os rótulos / labels**\n",
        "    - A [fórmula é dada por](https://en.wikipedia.org/wiki/Rand_index):\n",
        "        <img src=\"https://drive.google.com/uc?id=1_eGU36rS0OTEaZ6JvckTcm2dZb-fmJaG\" style='width: 250px;' />\n",
        "    - Onde:\n",
        "        - a: número de pares que pertencem **a mesma classe e ao mesmo cluster**\n",
        "        - b: número de pares que pertencem **a classes diferentes e a clusters diferentes**\n",
        "        - c: número de pares que pertencem **a mesma classe e a clusters diferentes**\n",
        "        - d: número de pares que pertencem **a classes diferentes e ao mesmo cluster**<br><br>\n",
        "    - O Índice Rand tem alguns problemas como ter valores altos mesmo para dados aleatórios e aumentar a medida que aumentamos o número de grupos. Para resolver utilizamos o **Índice Rand Ajustado**, onde:\n",
        "        - Para uma clusterização aleatória, seu valor é 0\n",
        "        - O máximo é 1\n",
        "        - Valores negativos representam clusterizações piores que escolher de forma aleatória os clusters"
      ]
    },
    {
      "cell_type": "code",
      "execution_count": null,
      "id": "d4042abe",
      "metadata": {
        "id": "d4042abe"
      },
      "outputs": [],
      "source": [
        "# Verificando o adjusted_rand_score para k = 2"
      ]
    },
    {
      "cell_type": "code",
      "execution_count": null,
      "id": "da15c774",
      "metadata": {
        "id": "da15c774"
      },
      "outputs": [],
      "source": [
        "# Para k = 3"
      ]
    },
    {
      "cell_type": "code",
      "execution_count": null,
      "id": "1061c082",
      "metadata": {
        "id": "1061c082"
      },
      "outputs": [],
      "source": [
        "# k = 4"
      ]
    },
    {
      "cell_type": "code",
      "execution_count": null,
      "id": "770d659a",
      "metadata": {
        "id": "770d659a"
      },
      "outputs": [],
      "source": [
        "# Podemos percorrer os valores de k calculando esses dois indicadores"
      ]
    },
    {
      "cell_type": "code",
      "execution_count": null,
      "id": "0a710f95",
      "metadata": {
        "id": "0a710f95"
      },
      "outputs": [],
      "source": [
        "# E visualizar graficamente como ele se comporta para cada valor de k"
      ]
    },
    {
      "cell_type": "markdown",
      "id": "b4c82650",
      "metadata": {
        "id": "b4c82650"
      },
      "source": [
        "- **\"Coeficiente Silhueta\"**\n",
        "    - https://scikit-learn.org/stable/modules/clustering.html#silhouette-coefficient\n",
        "    - Quanto maior esse coeficiente, mais bem definidos são os clusters do modelo\n",
        "    - Vamos considerar 2 pontuações\n",
        "        - **a:** A distância média **entre uma amostra e todos os outros pontos da mesma classe**\n",
        "        - **b:** A distância média **entre uma amostra e todos os outros pontos no outro cluster mais próximo**\n",
        "    - **Ele avalia tanto a distância intracluster (o quanto os pontos estão afastados dentro do próprio cluster) quando a distância interclusters (o quanto os clusters estão afastados entre si)**\n",
        "    - O [coeficiente para uma amostra é dado pela fórmula abaixo](https://scikit-learn.org/stable/modules/generated/sklearn.metrics.silhouette_samples.html#sklearn.metrics.silhouette_samples)\n",
        "    <img src=\"https://drive.google.com/uc?id=1iW9amVJNfL9qpLd6swEHnKg4qse-gPIL\" style='width: 250px;' />\n",
        "    - O coeficiente para o conjunto de amostras é dado utilizando a média desse coeficiente para cada amostra"
      ]
    },
    {
      "cell_type": "code",
      "execution_count": null,
      "id": "5f741c5f",
      "metadata": {
        "id": "5f741c5f"
      },
      "outputs": [],
      "source": [
        "# Verificando o silhouette_score para k = 2"
      ]
    },
    {
      "cell_type": "code",
      "execution_count": null,
      "id": "a905d479",
      "metadata": {
        "id": "a905d479"
      },
      "outputs": [],
      "source": [
        "# E para k = 3"
      ]
    },
    {
      "cell_type": "code",
      "execution_count": null,
      "id": "2551e18e",
      "metadata": {
        "id": "2551e18e"
      },
      "outputs": [],
      "source": [
        "# Percorrendo para diferentes valores de k"
      ]
    },
    {
      "cell_type": "code",
      "execution_count": null,
      "id": "a647e918",
      "metadata": {
        "id": "a647e918"
      },
      "outputs": [],
      "source": [
        "# E visualizando graficamente"
      ]
    },
    {
      "cell_type": "markdown",
      "id": "b178b252",
      "metadata": {
        "id": "b178b252"
      },
      "source": [
        "<font color='blue'>**Pelas métricas, o melhor resultado foi obtido fazendo K = 2. Então esse é o melhor valor de k?**</font>\n",
        "- Isso é apenas um direcionamento, porém o que é mais importante é <font color='blue'>**conhecermos o negócio**</font>!"
      ]
    }
  ],
  "metadata": {
    "kernelspec": {
      "display_name": "Python 3 (ipykernel)",
      "language": "python",
      "name": "python3"
    },
    "language_info": {
      "codemirror_mode": {
        "name": "ipython",
        "version": 3
      },
      "file_extension": ".py",
      "mimetype": "text/x-python",
      "name": "python",
      "nbconvert_exporter": "python",
      "pygments_lexer": "ipython3",
      "version": "3.9.13"
    },
    "colab": {
      "provenance": []
    }
  },
  "nbformat": 4,
  "nbformat_minor": 5
}